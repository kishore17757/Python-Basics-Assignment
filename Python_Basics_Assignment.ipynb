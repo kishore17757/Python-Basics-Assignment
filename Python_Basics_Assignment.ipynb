{
  "nbformat": 4,
  "nbformat_minor": 0,
  "metadata": {
    "colab": {
      "provenance": []
    },
    "kernelspec": {
      "name": "python3",
      "display_name": "Python 3"
    },
    "language_info": {
      "name": "python"
    }
  },
  "cells": [
    {
      "cell_type": "markdown",
      "source": [
        "#Python Basics\n"
      ],
      "metadata": {
        "id": "nIqumQ3m2y8P"
      }
    },
    {
      "cell_type": "markdown",
      "source": [
        "1. What is Python, and why is it popular?\n",
        "-  Python is a high-level, interpreted programming language, It is popular because of its simple syntax, versatility, and huge library support.\n",
        "Python is widely used in web development, data science, AI, automation, and more."
      ],
      "metadata": {
        "id": "mThYVsSO222s"
      }
    },
    {
      "cell_type": "markdown",
      "source": [
        "2.What is an interpreter in Python ?\n",
        "- An interpreter in Python is a program that executes Python code line by line instead of compiling it all at once. It translates Python code into machine-readable instructions at runtime. This makes Python easier to debug and platform-independent."
      ],
      "metadata": {
        "id": "9Ka6qKJx31xN"
      }
    },
    {
      "cell_type": "markdown",
      "source": [
        "3. What are pre-defined keywords in Python?\n",
        "- Pre-defined keywords in Python are reserved words that have special meanings and purposes in the language. They cannot be used as identifiers.\n",
        "\n",
        "Examples: if, else, while, for, class, def, True, False, None"
      ],
      "metadata": {
        "id": "126PPOsR4Sbr"
      }
    },
    {
      "cell_type": "markdown",
      "source": [
        "4. Can keywords be used as variable names ?\n",
        "- No, keywords cannot be used as variable names in Python because they are reserved words with special meanings. Using them will cause a syntax error."
      ],
      "metadata": {
        "id": "CzjY-IXT4mip"
      }
    },
    {
      "cell_type": "markdown",
      "source": [
        "5. What is mutability in Python ?\n",
        "- Mutability in Python refers to the ability of an object to be modified after it is created.\n",
        "If an object allows changes in its content, it is called mutable\n",
        "\n",
        "Examples: list, dict, set."
      ],
      "metadata": {
        "id": "ToPSCV954yGo"
      }
    },
    {
      "cell_type": "markdown",
      "source": [
        "6. Why are lists mutable, but tuples are immutable ?\n",
        "- Lists are mutable because their elements can be added, removed, or changed after creation, They are designed for flexibility when data needs to be modified.\n",
        "Tuples are immutable, meaning their elements cannot be changed once created,\n",
        "This immutability makes tuples faster and safer for fixed data storage."
      ],
      "metadata": {
        "id": "I5_jFoeL5Sgn"
      }
    },
    {
      "cell_type": "markdown",
      "source": [
        "7. What is the difference between “==” and “is” operators in Python ?\n",
        "- In Python, == checks whether two objects have the same value.\n",
        "The is operator checks whether two objects refer to the same memory location."
      ],
      "metadata": {
        "id": "hLW6dQWh5plb"
      }
    },
    {
      "cell_type": "markdown",
      "source": [
        "8. What are logical operators in Python ?\n",
        "- Logical operators in Python are used to combine conditional statements.\n",
        "The three logical operators are: and, or, and not."
      ],
      "metadata": {
        "id": "pAOFES7j6MbQ"
      }
    },
    {
      "cell_type": "markdown",
      "source": [
        "9. What is type casting in Python ?\n",
        "- Type casting in Python means converting one data type into another."
      ],
      "metadata": {
        "id": "S2cjwEn96fxR"
      }
    },
    {
      "cell_type": "markdown",
      "source": [
        "10.  What is the difference between implicit and explicit type casting ?\n",
        "- Implicit Type Casting:\n",
        "\n",
        "Done automatically by Python without user intervention, Usually occurs when combining different data types in expressions.\n",
        "\n",
        "- Explicit Type Casting:\n",
        "\n",
        "Done manually by the programmer using type conversion functions like int(), float(), str()."
      ],
      "metadata": {
        "id": "cC8pnLrO6rJi"
      }
    },
    {
      "cell_type": "markdown",
      "source": [
        "11. What is the purpose of conditional statements in Python ?\n",
        "- Conditional statements are used to make decisions in Python programs.\n",
        "They allow the program to execute certain blocks of code only if a condition is True, Python provides if, elif, and else statements to handle different scenarios."
      ],
      "metadata": {
        "id": "9hfM8ZMi7Kc-"
      }
    },
    {
      "cell_type": "markdown",
      "source": [
        "12. How does the elif statement work ?\n",
        "- The elif statement allows checking multiple conditions sequentially.\n",
        "If the first if condition False, Python checks the elif condition.\n",
        "Only the first True condition block gets executed; others are skipped."
      ],
      "metadata": {
        "id": "fBAMtsbL7_iI"
      }
    },
    {
      "cell_type": "markdown",
      "source": [
        "13. What is the difference between for and while loops ?\n",
        "- for loop: Executes a block of code a fixed number of times, often over a sequence.\n",
        "\n",
        "while loop: Executes a block as long as a condition is True, number of iterations is not fixed."
      ],
      "metadata": {
        "id": "pV1K3x4b8ElO"
      }
    },
    {
      "cell_type": "markdown",
      "source": [
        "14. Describe a scenario where a while loop is more suitable than a for loop.\n",
        "- A while loop is better when the number of iterations is not known in advance.\n",
        "Example: Reading user input until a correct password is entered"
      ],
      "metadata": {
        "id": "EYmNGgBY8QFt"
      }
    },
    {
      "cell_type": "markdown",
      "source": [
        "#Practical Questions"
      ],
      "metadata": {
        "id": "OxkJOAOe8fGh"
      }
    },
    {
      "cell_type": "code",
      "source": [
        "# 1.Write a Python program to print \"Hello, World!\n",
        "print(\"Hello, World!\")"
      ],
      "metadata": {
        "colab": {
          "base_uri": "https://localhost:8080/"
        },
        "id": "ZVOaG9sN8hmC",
        "outputId": "c9b24eb0-9725-4ff6-a58a-693856a73845"
      },
      "execution_count": 2,
      "outputs": [
        {
          "output_type": "stream",
          "name": "stdout",
          "text": [
            "Hello, World!\n"
          ]
        }
      ]
    },
    {
      "cell_type": "code",
      "source": [
        "# 2.Write a Python program that displays your name and age\n",
        "name = \"Hari\"\n",
        "age = 21\n",
        "print(\"Name:\", name)\n",
        "print(\"Age:\", age)"
      ],
      "metadata": {
        "colab": {
          "base_uri": "https://localhost:8080/"
        },
        "id": "_QWqFStv9Zqp",
        "outputId": "e6e755b1-864c-4f77-fad3-011f7e8a2572"
      },
      "execution_count": 3,
      "outputs": [
        {
          "output_type": "stream",
          "name": "stdout",
          "text": [
            "Name: Hari\n",
            "Age: 21\n"
          ]
        }
      ]
    },
    {
      "cell_type": "code",
      "source": [
        "# 3.Write code to print all the pre-defined keywords in Python using the keyword library.\n",
        "import keyword\n",
        "print(keyword.kwlist)"
      ],
      "metadata": {
        "colab": {
          "base_uri": "https://localhost:8080/"
        },
        "id": "XPXjNT_H9jdf",
        "outputId": "669d59b9-8722-444e-9bcf-b0846ac55cd4"
      },
      "execution_count": 4,
      "outputs": [
        {
          "output_type": "stream",
          "name": "stdout",
          "text": [
            "['False', 'None', 'True', 'and', 'as', 'assert', 'async', 'await', 'break', 'class', 'continue', 'def', 'del', 'elif', 'else', 'except', 'finally', 'for', 'from', 'global', 'if', 'import', 'in', 'is', 'lambda', 'nonlocal', 'not', 'or', 'pass', 'raise', 'return', 'try', 'while', 'with', 'yield']\n"
          ]
        }
      ]
    },
    {
      "cell_type": "code",
      "source": [
        "# 4.Write a program that checks if a given word is a Python keyword.\n",
        "import keyword\n",
        "word = input(\"Enter a word: \")\n",
        "if keyword.iskeyword(word):\n",
        "    print(f\"'{word}' is a Python keyword\")\n",
        "else:\n",
        "    print(f\"'{word}' is not a Python keyword\")"
      ],
      "metadata": {
        "colab": {
          "base_uri": "https://localhost:8080/"
        },
        "id": "xt9im3pr9tUj",
        "outputId": "63019fcf-2d56-4108-f4b2-0cff56ad950d"
      },
      "execution_count": 5,
      "outputs": [
        {
          "output_type": "stream",
          "name": "stdout",
          "text": [
            "Enter a word: hello\n",
            "'hello' is not a Python keyword\n"
          ]
        }
      ]
    },
    {
      "cell_type": "code",
      "source": [
        "# 5.Create a list and tuple in Python, and demonstrate how attempting to change an element works differently for each.\n",
        "my_list = [1, 2, 3]\n",
        "my_tuple = (1, 2, 3)\n",
        "\n",
        "my_list[0] = 100\n",
        "print(\"Modified list:\", my_list)  # Output: [100, 2, 3]\n",
        "\n",
        "try:\n",
        "    my_tuple[0] = 100\n",
        "except TypeError as e:\n",
        "    print(\"Error modifying tuple:\", e)\n"
      ],
      "metadata": {
        "colab": {
          "base_uri": "https://localhost:8080/"
        },
        "id": "4FACCVaE979V",
        "outputId": "23b98c62-a71d-4e98-a842-03dc6a194b55"
      },
      "execution_count": 10,
      "outputs": [
        {
          "output_type": "stream",
          "name": "stdout",
          "text": [
            "Modified list: [100, 2, 3]\n",
            "Error modifying tuple: 'tuple' object does not support item assignment\n"
          ]
        }
      ]
    },
    {
      "cell_type": "code",
      "source": [
        "# 6. Write a function to demonstrate the behavior of mutable and immutable arguments.\n",
        "def modify_list(lst):\n",
        "    lst.append(100)\n",
        "\n",
        "def modify_number(n):\n",
        "    n += 10\n",
        "\n",
        "my_list = [1, 2, 3]\n",
        "my_number = 5\n",
        "\n",
        "modify_list(my_list)\n",
        "modify_number(my_number)\n",
        "\n",
        "print(\"List after function:\", my_list)      # [1, 2, 3, 100]\n",
        "print(\"Number after function:\", my_number)"
      ],
      "metadata": {
        "colab": {
          "base_uri": "https://localhost:8080/"
        },
        "id": "vXiv7Qk4-3dt",
        "outputId": "b4684fa0-7d8d-4d16-c31b-6468c5b753c8"
      },
      "execution_count": 12,
      "outputs": [
        {
          "output_type": "stream",
          "name": "stdout",
          "text": [
            "List after function: [1, 2, 3, 100]\n",
            "Number after function: 5\n"
          ]
        }
      ]
    },
    {
      "cell_type": "code",
      "source": [
        "# 7. Write a program that performs basic arithmetic operations on two user-input numbers.\n",
        "a = float(input(\"Enter first number: \"))\n",
        "b = float(input(\"Enter second number: \"))\n",
        "print(\"Addition:\", a + b)\n",
        "print(\"Subtraction:\", a - b)\n",
        "print(\"Multiplication:\", a * b)\n",
        "print(\"Division:\", a / b if b != 0 else \"Cannot divide by zero\")\n",
        "print(\"Modulus:\", a % b if b != 0 else \"Cannot divide by zero\")"
      ],
      "metadata": {
        "colab": {
          "base_uri": "https://localhost:8080/"
        },
        "id": "0key4QWU_XIt",
        "outputId": "d54f96b2-b380-4f3f-eb2b-40c666ac4cff"
      },
      "execution_count": 13,
      "outputs": [
        {
          "output_type": "stream",
          "name": "stdout",
          "text": [
            "Enter first number: 85\n",
            "Enter second number: 60\n",
            "Addition: 145.0\n",
            "Subtraction: 25.0\n",
            "Multiplication: 5100.0\n",
            "Division: 1.4166666666666667\n",
            "Modulus: 25.0\n"
          ]
        }
      ]
    },
    {
      "cell_type": "code",
      "source": [
        "# 8.Write a program to demonstrate the use of logical operators.\n",
        "x = int(input(\"Enter first number: \"))\n",
        "y = int(input(\"Enter second number: \"))\n",
        "\n",
        "print(\"x > 0 and y > 0:\", x > 0 and y > 0)\n",
        "print(\"x > 0 or y > 0:\", x > 0 or y > 0)\n",
        "print(\"not(x > 0):\", not(x > 0))"
      ],
      "metadata": {
        "colab": {
          "base_uri": "https://localhost:8080/"
        },
        "id": "uXVwGTV7_rcI",
        "outputId": "07379765-b32a-4f34-9805-2558fd12c0e8"
      },
      "execution_count": 14,
      "outputs": [
        {
          "output_type": "stream",
          "name": "stdout",
          "text": [
            "Enter first number: 25\n",
            "Enter second number: 10\n",
            "x > 0 and y > 0: True\n",
            "x > 0 or y > 0: True\n",
            "not(x > 0): False\n"
          ]
        }
      ]
    },
    {
      "cell_type": "code",
      "source": [
        "# 9.Write a Python program to convert user input from string to integer, float, and boolean types.\n",
        "string_value = input(\"Enter a string: \")\n",
        "int_value = int(string_value)\n",
        "float_value = float(string_value)\n",
        "bool_value = bool(string_value)\n",
        "print(\"String:\", string_value)\n",
        "print(\"Integer:\", int_value)\n",
        "print(\"Float:\", float_value)\n",
        "print(\"Boolean:\", bool_value)"
      ],
      "metadata": {
        "colab": {
          "base_uri": "https://localhost:8080/"
        },
        "id": "9EWze2AA_8ei",
        "outputId": "63ae98f7-7de6-4a2d-a00e-91f2836cf60a"
      },
      "execution_count": 16,
      "outputs": [
        {
          "output_type": "stream",
          "name": "stdout",
          "text": [
            "Enter a string: 56\n",
            "String: 56\n",
            "Integer: 56\n",
            "Float: 56.0\n",
            "Boolean: True\n"
          ]
        }
      ]
    },
    {
      "cell_type": "code",
      "source": [
        "# 10. Write code to demonstrate type casting with list elements.\n",
        "lst = [\"1\", \"2\", \"3\", \"4\"]\n",
        "int_list = [int(x) for x in lst]\n",
        "float_list = [float(x) for x in lst]\n",
        "\n",
        "print(\"Original list:\", lst)\n",
        "print(\"Integer list:\", int_list)\n",
        "print(\"Float list:\", float_list)"
      ],
      "metadata": {
        "colab": {
          "base_uri": "https://localhost:8080/"
        },
        "id": "r2kHWU_tAO6u",
        "outputId": "ea8e54f4-808f-4afa-ae61-6170b99fea29"
      },
      "execution_count": 17,
      "outputs": [
        {
          "output_type": "stream",
          "name": "stdout",
          "text": [
            "Original list: ['1', '2', '3', '4']\n",
            "Integer list: [1, 2, 3, 4]\n",
            "Float list: [1.0, 2.0, 3.0, 4.0]\n"
          ]
        }
      ]
    },
    {
      "cell_type": "code",
      "source": [
        "# 11.Write a program that checks if a number is positive, negative, or zero.\n",
        "num = float(input(\"Enter a number: \"))\n",
        "if num > 0:\n",
        "    print(\"Positive\")\n",
        "elif num < 0:\n",
        "    print(\"Negative\")\n",
        "else:\n",
        "    print(\"Zero\")"
      ],
      "metadata": {
        "colab": {
          "base_uri": "https://localhost:8080/"
        },
        "id": "qF7gWwkzAfae",
        "outputId": "1341955b-6fd8-4f44-ef07-52d8bfce7981"
      },
      "execution_count": 18,
      "outputs": [
        {
          "output_type": "stream",
          "name": "stdout",
          "text": [
            "Enter a number: 5\n",
            "Positive\n"
          ]
        }
      ]
    },
    {
      "cell_type": "code",
      "source": [
        "# 12.Write a for loop to print numbers from 1 to 10.\n",
        "for i in range(1, 11):\n",
        "    print(i)"
      ],
      "metadata": {
        "colab": {
          "base_uri": "https://localhost:8080/"
        },
        "id": "NKKzneX_Ax7-",
        "outputId": "50b9bd55-ded0-4d1c-a59d-f30143412e3f"
      },
      "execution_count": 19,
      "outputs": [
        {
          "output_type": "stream",
          "name": "stdout",
          "text": [
            "1\n",
            "2\n",
            "3\n",
            "4\n",
            "5\n",
            "6\n",
            "7\n",
            "8\n",
            "9\n",
            "10\n"
          ]
        }
      ]
    },
    {
      "cell_type": "code",
      "source": [
        "# 13.Write a Python program to find the sum of all even numbers between 1 and 50.\n",
        "sum_even = 0\n",
        "for num in range(2, 51, 2):\n",
        "    sum_even += num\n",
        "print(\"Sum of even numbers between 1 and 50:\", sum_even)"
      ],
      "metadata": {
        "colab": {
          "base_uri": "https://localhost:8080/"
        },
        "id": "6Ca6vxsZA_t1",
        "outputId": "2b6df4fc-44a4-4fe4-efb2-80aa39cc43b2"
      },
      "execution_count": 20,
      "outputs": [
        {
          "output_type": "stream",
          "name": "stdout",
          "text": [
            "Sum of even numbers between 1 and 50: 650\n"
          ]
        }
      ]
    },
    {
      "cell_type": "code",
      "source": [
        "# 14. Write a program to reverse a string using a while loop.\n",
        "string = input(\"Enter a string: \")\n",
        "reversed_string = \"\"\n",
        "index = len(string) - 1\n",
        "while index >= 0:\n",
        "    reversed_string += string[index]\n",
        "    index -= 1\n",
        "print(\"Reversed string:\", reversed_string)"
      ],
      "metadata": {
        "colab": {
          "base_uri": "https://localhost:8080/"
        },
        "id": "HYAAbvEEBJfu",
        "outputId": "71061ac1-8cf3-4f31-aa55-c367f30f5680"
      },
      "execution_count": 21,
      "outputs": [
        {
          "output_type": "stream",
          "name": "stdout",
          "text": [
            "Enter a string: hgfutr\n",
            "Reversed string: rtufgh\n"
          ]
        }
      ]
    },
    {
      "cell_type": "code",
      "source": [
        "# 15. Write a Python program to calculate the factorial of a number provided by the user using a while loop.\n",
        "n = int(input(\"Enter a number: \"))\n",
        "factorial = 1\n",
        "i = 1\n",
        "while i <= n:\n",
        "    factorial *= i\n",
        "    i += 1\n",
        "\n",
        "print(f\"Factorial of {n} is {factorial}\")"
      ],
      "metadata": {
        "colab": {
          "base_uri": "https://localhost:8080/"
        },
        "id": "eq8kTHosBf67",
        "outputId": "40e6074a-8158-433c-aaea-026cead60106"
      },
      "execution_count": 22,
      "outputs": [
        {
          "output_type": "stream",
          "name": "stdout",
          "text": [
            "Enter a number: 12\n",
            "Factorial of 12 is 479001600\n"
          ]
        }
      ]
    }
  ]
}